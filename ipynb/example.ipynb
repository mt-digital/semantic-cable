{
 "cells": [
  {
   "cell_type": "code",
   "execution_count": 1,
   "metadata": {
    "collapsed": false
   },
   "outputs": [],
   "source": [
    "import pickle\n",
    "import os\n",
    "\n",
    "file_path = 'fox_result'\n",
    "\n",
    "max_bytes = max_bytes = 2**31 - 1\n",
    "bytes_in = bytearray(0)\n",
    "input_size = os.path.getsize(file_path)\n",
    "with open(file_path, 'rb') as f_in:\n",
    "    for _ in range(0, input_size, max_bytes):\n",
    "        bytes_in += f_in.read(max_bytes)\n",
    "rf = pickle.loads(bytes_in)\n",
    "\n",
    "file_path = 'msnbc_result'\n",
    "\n",
    "bytes_in = bytearray(0)\n",
    "input_size = os.path.getsize(file_path)\n",
    "with open(file_path, 'rb') as f_in:\n",
    "    for _ in range(0, input_size, max_bytes):\n",
    "        bytes_in += f_in.read(max_bytes)\n",
    "rm = pickle.loads(bytes_in)"
   ]
  },
  {
   "cell_type": "code",
   "execution_count": 3,
   "metadata": {
    "collapsed": false
   },
   "outputs": [],
   "source": [
    "%matplotlib inline\n",
    "from semcable.vsm_experiment import generate_barh_plots\n",
    "\n",
    "generate_barh_plots('plots', \n",
    "                    ['regulations', 'epa', 'liberal', 'conservative',\n",
    "                    'islam', 'christianity'], rm, rf, n=20,\n",
    "                    exclude_lookup={'immigration': ['immigrants'], \n",
    "                                    'liberal': ['liberals'], \n",
    "                                    'conservative': ['conservatives'],\n",
    "                                    })"
   ]
  },
  {
   "cell_type": "code",
   "execution_count": 15,
   "metadata": {
    "collapsed": false
   },
   "outputs": [
    {
     "name": "stdout",
     "output_type": "stream",
     "text": [
      "['epa', 'restrictive', 'unleash', 'onerous', 'farming', 'regulate', 'shale', 'stifling', 'wet', 'epa', 'small', 'fracking', 'put', 'imposed', 'coal', 'farmers', 'strangling', 'clobbered', 'businesses', 'clean', 'energy', 'miners', 'unilaterally', 'regulatory', 'crushed', 'industry', 'regulations', 'industries', 'regulation', 'agriculture', 'thrive', 'fossil', 'restrictions', 'natural']\n",
      "['restrictive', 'epa', 'onerous', 'farming', 'regulate', 'shale', 'stifling', 'wet', 'unleash', 'small', 'thrive', 'fracking', 'put', 'imposed', 'clobbered', 'farmers', 'strangling', 'coal', 'clean', 'natural', 'miners', 'unilaterally', 'regulatory', 'crushed', 'industry', 'regulations', 'industries', 'regulation', 'agriculture', 'businesses', 'fossil', 'restrictions', 'energy']\n"
     ]
    }
   ],
   "source": [
    "plt.style.use('default')\n",
    "\n",
    "from matplotlib.backends.backend_pdf import PdfPages\n",
    "\n",
    "with PdfPages('plots/epa-network.pdf') as pdf:\n",
    "    \n",
    "    fig, ax = rf.vis_subgraph('epa', exclude_adverbs=False)\n",
    "    ax.axis('off')\n",
    "    st = fig.suptitle(\"Local network around 'epa' in Fox News\", fontsize=26)\n",
    "    st.set_y(.95)\n",
    "    \n",
    "    plt.tight_layout()\n",
    "    pdf.savefig(fig)"
   ]
  },
  {
   "cell_type": "code",
   "execution_count": 4,
   "metadata": {
    "collapsed": false
   },
   "outputs": [],
   "source": [
    "from semcable.vsm_experiment import generate_local_network_plot\n",
    "plt.close('all')\n",
    "generate_local_network_plot(\n",
    "    'local_network_plots', ['islam', 'regulations', 'christianity', 'swamp', \n",
    "                            'epa', 'immigration', 'climate', \n",
    "                            'liberal', 'conservative'],\n",
    "    rm, rf\n",
    ")"
   ]
  }
 ],
 "metadata": {
  "kernelspec": {
   "display_name": "Python 3",
   "language": "python",
   "name": "python3"
  },
  "language_info": {
   "codemirror_mode": {
    "name": "ipython",
    "version": 3
   },
   "file_extension": ".py",
   "mimetype": "text/x-python",
   "name": "python",
   "nbconvert_exporter": "python",
   "pygments_lexer": "ipython3",
   "version": "3.5.2"
  }
 },
 "nbformat": 4,
 "nbformat_minor": 1
}
