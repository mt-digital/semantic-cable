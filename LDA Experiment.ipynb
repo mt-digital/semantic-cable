{
 "cells": [
  {
   "cell_type": "code",
   "execution_count": 29,
   "metadata": {
    "collapsed": true
   },
   "outputs": [],
   "source": [
    "%matplotlib inline\n",
    "from semcable.experiment import Experiment\n",
    "from util import get_corpus_text, make_doc_word_matrix"
   ]
  },
  {
   "cell_type": "code",
   "execution_count": 21,
   "metadata": {
    "collapsed": false
   },
   "outputs": [],
   "source": [
    "texts = get_corpus_text('Three Months for Semantic Network Experiments', 'MSNBCW')"
   ]
  },
  {
   "cell_type": "code",
   "execution_count": 39,
   "metadata": {
    "collapsed": false,
    "scrolled": true
   },
   "outputs": [],
   "source": [
    "#import cProfile\n",
    "#cProfile.run('doc_word_mat, vocab = make_doc_word_matrix(texts[:10])')\n",
    "doc_word_mat, vocab = make_doc_word_matrix(texts)"
   ]
  },
  {
   "cell_type": "code",
   "execution_count": 33,
   "metadata": {
    "collapsed": false
   },
   "outputs": [
    {
     "name": "stdout",
     "output_type": "stream",
     "text": [
      "['game', 'play', 'good', 'steve', 'kornacki', 'chris', 'past', 'donald', 'trump', 'wrapped', 'campaign', 'billed', 'major', 'speech', 'topic', 'year', 'denigrating', 'mexican', 'government', 'talking', 'tough', 'illegal', 'immigration', 'weeks', 'raising', 'questions', 'shifting', 'rhetoric', 'tonight', 'laid']\n",
      "(1437, 58902)\n"
     ]
    },
    {
     "data": {
      "text/plain": [
       "<matplotlib.image.AxesImage at 0x151790080>"
      ]
     },
     "execution_count": 33,
     "metadata": {},
     "output_type": "execute_result"
    },
    {
     "data": {
      "image/png": "[encoded data removed]",
      "text/plain": [
       "<matplotlib.figure.Figure at 0x13594f438>"
      ]
     },
     "metadata": {},
     "output_type": "display_data"
    }
   ],
   "source": [
    "print(vocab[:30])\n",
    "print(doc_word_mat.shape)\n",
    "plt.matshow(doc_word_mat)"
   ]
  },
  {
   "cell_type": "code",
   "execution_count": 37,
   "metadata": {
    "collapsed": false
   },
   "outputs": [
    {
     "name": "stdout",
     "output_type": "stream",
     "text": [
      "(array([], dtype=int64),)\n"
     ]
    },
    {
     "data": {
      "text/plain": [
       "dtype('float64')"
      ]
     },
     "execution_count": 37,
     "metadata": {},
     "output_type": "execute_result"
    }
   ],
   "source": [
    "empties = np.where(doc_word_mat.sum(axis=1) == 0)\n",
    "print(empties)\n",
    "doc_word_mat.dtype"
   ]
  },
  {
   "cell_type": "code",
   "execution_count": null,
   "metadata": {
    "collapsed": false
   },
   "outputs": [
    {
     "name": "stderr",
     "output_type": "stream",
     "text": [
      "INFO:lda:n_documents: 1437\n",
      "INFO:lda:vocab_size: 58902\n",
      "INFO:lda:n_words: 3982223\n",
      "INFO:lda:n_topics: 80\n",
      "INFO:lda:n_iter: 2000\n",
      "INFO:lda:<0> log likelihood: -51030430\n",
      "INFO:lda:<10> log likelihood: -42876390\n",
      "INFO:lda:<20> log likelihood: -39768935\n",
      "INFO:lda:<30> log likelihood: -38714661\n",
      "INFO:lda:<40> log likelihood: -38162380\n",
      "INFO:lda:<50> log likelihood: -37821923\n",
      "INFO:lda:<60> log likelihood: -37571461\n",
      "INFO:lda:<70> log likelihood: -37384558\n",
      "INFO:lda:<80> log likelihood: -37237311\n",
      "INFO:lda:<90> log likelihood: -37123604\n",
      "INFO:lda:<100> log likelihood: -37010894\n",
      "INFO:lda:<110> log likelihood: -36924837\n",
      "INFO:lda:<120> log likelihood: -36843349\n",
      "INFO:lda:<130> log likelihood: -36755522\n",
      "INFO:lda:<140> log likelihood: -36672913\n",
      "INFO:lda:<150> log likelihood: -36603868\n",
      "INFO:lda:<160> log likelihood: -36543464\n",
      "INFO:lda:<170> log likelihood: -36472923\n",
      "INFO:lda:<180> log likelihood: -36418143\n",
      "INFO:lda:<190> log likelihood: -36359243\n",
      "INFO:lda:<200> log likelihood: -36314506\n",
      "INFO:lda:<210> log likelihood: -36253637\n",
      "INFO:lda:<220> log likelihood: -36206493\n",
      "INFO:lda:<230> log likelihood: -36161177\n",
      "INFO:lda:<240> log likelihood: -36114250\n",
      "INFO:lda:<250> log likelihood: -36064809\n",
      "INFO:lda:<260> log likelihood: -36036100\n",
      "INFO:lda:<270> log likelihood: -35982930\n",
      "INFO:lda:<280> log likelihood: -35936095\n",
      "INFO:lda:<290> log likelihood: -35889115\n",
      "INFO:lda:<300> log likelihood: -35849422\n",
      "INFO:lda:<310> log likelihood: -35809796\n",
      "INFO:lda:<320> log likelihood: -35782657\n",
      "INFO:lda:<330> log likelihood: -35741196\n",
      "INFO:lda:<340> log likelihood: -35711822\n",
      "INFO:lda:<350> log likelihood: -35689139\n",
      "INFO:lda:<360> log likelihood: -35656697\n",
      "INFO:lda:<370> log likelihood: -35628651\n",
      "INFO:lda:<380> log likelihood: -35607056\n",
      "INFO:lda:<390> log likelihood: -35570166\n",
      "INFO:lda:<400> log likelihood: -35548733\n",
      "INFO:lda:<410> log likelihood: -35532419\n",
      "INFO:lda:<420> log likelihood: -35503121\n",
      "INFO:lda:<430> log likelihood: -35469728\n",
      "INFO:lda:<440> log likelihood: -35447351\n",
      "INFO:lda:<450> log likelihood: -35436990\n",
      "INFO:lda:<460> log likelihood: -35404289\n",
      "INFO:lda:<470> log likelihood: -35389577\n",
      "INFO:lda:<480> log likelihood: -35365731\n",
      "INFO:lda:<490> log likelihood: -35350202\n",
      "INFO:lda:<500> log likelihood: -35338178\n",
      "INFO:lda:<510> log likelihood: -35317725\n",
      "INFO:lda:<520> log likelihood: -35299312\n",
      "INFO:lda:<530> log likelihood: -35296072\n",
      "INFO:lda:<540> log likelihood: -35279322\n",
      "INFO:lda:<550> log likelihood: -35257762\n",
      "INFO:lda:<560> log likelihood: -35243669\n",
      "INFO:lda:<570> log likelihood: -35229928\n",
      "INFO:lda:<580> log likelihood: -35210799\n",
      "INFO:lda:<590> log likelihood: -35199006\n",
      "INFO:lda:<600> log likelihood: -35188252\n",
      "INFO:lda:<610> log likelihood: -35183781\n",
      "INFO:lda:<620> log likelihood: -35174061\n",
      "INFO:lda:<630> log likelihood: -35166772\n",
      "INFO:lda:<640> log likelihood: -35152925\n",
      "INFO:lda:<650> log likelihood: -35136835\n",
      "INFO:lda:<660> log likelihood: -35127707\n",
      "INFO:lda:<670> log likelihood: -35115659\n",
      "INFO:lda:<680> log likelihood: -35108782\n",
      "INFO:lda:<690> log likelihood: -35101335\n",
      "INFO:lda:<700> log likelihood: -35089000\n",
      "INFO:lda:<710> log likelihood: -35080353\n",
      "INFO:lda:<720> log likelihood: -35078197\n",
      "INFO:lda:<730> log likelihood: -35070919\n",
      "INFO:lda:<740> log likelihood: -35059349\n",
      "INFO:lda:<750> log likelihood: -35052194\n",
      "INFO:lda:<760> log likelihood: -35042005\n",
      "INFO:lda:<770> log likelihood: -35033259\n",
      "INFO:lda:<780> log likelihood: -35029570\n",
      "INFO:lda:<790> log likelihood: -35026767\n",
      "INFO:lda:<800> log likelihood: -35019178\n",
      "INFO:lda:<810> log likelihood: -35001841\n",
      "INFO:lda:<820> log likelihood: -34997298\n",
      "INFO:lda:<830> log likelihood: -34996765\n",
      "INFO:lda:<840> log likelihood: -34985124\n",
      "INFO:lda:<850> log likelihood: -34977365\n",
      "INFO:lda:<860> log likelihood: -34979131\n",
      "INFO:lda:<870> log likelihood: -34975706\n",
      "INFO:lda:<880> log likelihood: -34968915\n",
      "INFO:lda:<890> log likelihood: -34960268\n",
      "INFO:lda:<900> log likelihood: -34953398\n",
      "INFO:lda:<910> log likelihood: -34944943\n",
      "INFO:lda:<920> log likelihood: -34946075\n",
      "INFO:lda:<930> log likelihood: -34934257\n",
      "INFO:lda:<940> log likelihood: -34928561\n",
      "INFO:lda:<950> log likelihood: -34921173\n",
      "INFO:lda:<960> log likelihood: -34913646\n",
      "INFO:lda:<970> log likelihood: -34912136\n",
      "INFO:lda:<980> log likelihood: -34901533\n",
      "INFO:lda:<990> log likelihood: -34895248\n",
      "INFO:lda:<1000> log likelihood: -34892574\n",
      "INFO:lda:<1010> log likelihood: -34881768\n",
      "INFO:lda:<1020> log likelihood: -34873240\n",
      "INFO:lda:<1030> log likelihood: -34872718\n",
      "INFO:lda:<1040> log likelihood: -34863368\n",
      "INFO:lda:<1050> log likelihood: -34851148\n",
      "INFO:lda:<1060> log likelihood: -34859468\n",
      "INFO:lda:<1070> log likelihood: -34854799\n",
      "INFO:lda:<1080> log likelihood: -34850048\n",
      "INFO:lda:<1090> log likelihood: -34853651\n",
      "INFO:lda:<1100> log likelihood: -34854488\n",
      "INFO:lda:<1110> log likelihood: -34852112\n",
      "INFO:lda:<1120> log likelihood: -34840931\n",
      "INFO:lda:<1130> log likelihood: -34818622\n",
      "INFO:lda:<1140> log likelihood: -34830726\n",
      "INFO:lda:<1150> log likelihood: -34823774\n",
      "INFO:lda:<1160> log likelihood: -34817662\n",
      "INFO:lda:<1170> log likelihood: -34814396\n",
      "INFO:lda:<1180> log likelihood: -34802975\n",
      "INFO:lda:<1190> log likelihood: -34810960\n",
      "INFO:lda:<1200> log likelihood: -34803890\n",
      "INFO:lda:<1210> log likelihood: -34805428\n",
      "INFO:lda:<1220> log likelihood: -34796009\n",
      "INFO:lda:<1230> log likelihood: -34799798\n",
      "INFO:lda:<1240> log likelihood: -34791565\n",
      "INFO:lda:<1250> log likelihood: -34781356\n",
      "INFO:lda:<1260> log likelihood: -34775351\n",
      "INFO:lda:<1270> log likelihood: -34773010\n",
      "INFO:lda:<1280> log likelihood: -34771446\n",
      "INFO:lda:<1290> log likelihood: -34784403\n",
      "INFO:lda:<1300> log likelihood: -34784285\n",
      "INFO:lda:<1310> log likelihood: -34778254\n",
      "INFO:lda:<1320> log likelihood: -34763552\n",
      "INFO:lda:<1330> log likelihood: -34767754\n",
      "INFO:lda:<1340> log likelihood: -34762404\n",
      "INFO:lda:<1350> log likelihood: -34754341\n",
      "INFO:lda:<1360> log likelihood: -34751385\n",
      "INFO:lda:<1370> log likelihood: -34756201\n",
      "INFO:lda:<1380> log likelihood: -34763100\n",
      "INFO:lda:<1390> log likelihood: -34761513\n",
      "INFO:lda:<1400> log likelihood: -34758039\n",
      "INFO:lda:<1410> log likelihood: -34744743\n",
      "INFO:lda:<1420> log likelihood: -34734709\n",
      "INFO:lda:<1430> log likelihood: -34739350\n",
      "INFO:lda:<1440> log likelihood: -34745085\n",
      "INFO:lda:<1450> log likelihood: -34734674\n",
      "INFO:lda:<1460> log likelihood: -34731969\n",
      "INFO:lda:<1470> log likelihood: -34741494\n",
      "INFO:lda:<1480> log likelihood: -34747881\n",
      "INFO:lda:<1490> log likelihood: -34737650\n",
      "INFO:lda:<1500> log likelihood: -34727465\n",
      "INFO:lda:<1510> log likelihood: -34733546\n",
      "INFO:lda:<1520> log likelihood: -34736983\n",
      "INFO:lda:<1530> log likelihood: -34738111\n",
      "INFO:lda:<1540> log likelihood: -34729522\n",
      "INFO:lda:<1550> log likelihood: -34730983\n",
      "INFO:lda:<1560> log likelihood: -34725515\n",
      "INFO:lda:<1570> log likelihood: -34731340\n",
      "INFO:lda:<1580> log likelihood: -34728976\n",
      "INFO:lda:<1590> log likelihood: -34730730\n",
      "INFO:lda:<1600> log likelihood: -34730913\n",
      "INFO:lda:<1610> log likelihood: -34735542\n",
      "INFO:lda:<1620> log likelihood: -34731339\n",
      "INFO:lda:<1630> log likelihood: -34722576\n",
      "INFO:lda:<1640> log likelihood: -34717159\n",
      "INFO:lda:<1650> log likelihood: -34713865\n",
      "INFO:lda:<1660> log likelihood: -34713150\n",
      "INFO:lda:<1670> log likelihood: -34709546\n",
      "INFO:lda:<1680> log likelihood: -34712747\n",
      "INFO:lda:<1690> log likelihood: -34697193\n",
      "INFO:lda:<1700> log likelihood: -34689798\n",
      "INFO:lda:<1710> log likelihood: -34689059\n",
      "INFO:lda:<1720> log likelihood: -34686664\n",
      "INFO:lda:<1730> log likelihood: -34681866\n",
      "INFO:lda:<1740> log likelihood: -34681304\n",
      "INFO:lda:<1750> log likelihood: -34676560\n",
      "INFO:lda:<1760> log likelihood: -34673326\n",
      "INFO:lda:<1770> log likelihood: -34671709\n",
      "INFO:lda:<1780> log likelihood: -34671667\n",
      "INFO:lda:<1790> log likelihood: -34667186\n",
      "INFO:lda:<1800> log likelihood: -34669149\n",
      "INFO:lda:<1810> log likelihood: -34666229\n",
      "INFO:lda:<1820> log likelihood: -34676256\n",
      "INFO:lda:<1830> log likelihood: -34678154\n",
      "INFO:lda:<1840> log likelihood: -34666336\n",
      "INFO:lda:<1850> log likelihood: -34666773\n",
      "INFO:lda:<1860> log likelihood: -34664433\n",
      "INFO:lda:<1870> log likelihood: -34660102\n",
      "INFO:lda:<1880> log likelihood: -34657246\n",
      "INFO:lda:<1890> log likelihood: -34657296\n",
      "INFO:lda:<1900> log likelihood: -34644802\n",
      "INFO:lda:<1910> log likelihood: -34634949\n",
      "INFO:lda:<1920> log likelihood: -34638714\n",
      "INFO:lda:<1930> log likelihood: -34637406\n",
      "INFO:lda:<1940> log likelihood: -34636139\n",
      "INFO:lda:<1950> log likelihood: -34643379\n",
      "INFO:lda:<1960> log likelihood: -34639498\n",
      "INFO:lda:<1970> log likelihood: -34630205\n",
      "INFO:lda:<1980> log likelihood: -34636868\n",
      "INFO:lda:<1990> log likelihood: -34632733\n",
      "INFO:lda:<1999> log likelihood: -34635490\n"
     ]
    }
   ],
   "source": [
    "e = Experiment(doc_word_mat, vocab)\n",
    "\n",
    "e.fit_lda(n_topics=80)\n",
    "e.calculate_adjacency()\n",
    "e.make_graph()\n",
    "e.fit_powerlaw()\n",
    "print(e.power_law_coefficients)\n"
   ]
  },
  {
   "cell_type": "code",
   "execution_count": 1,
   "metadata": {
    "collapsed": false
   },
   "outputs": [
    {
     "ename": "NameError",
     "evalue": "name 'doc_word_mat' is not defined",
     "output_type": "error",
     "traceback": [
      "\u001b[0;31m----------------------------------------------\u001b[0m",
      "\u001b[0;31mNameError\u001b[0m    Traceback (most recent call last)",
      "\u001b[0;32m<ipython-input-1-497935293a11>\u001b[0m in \u001b[0;36m<module>\u001b[0;34m()\u001b[0m\n\u001b[0;32m----> 1\u001b[0;31m \u001b[0mdoc_word_mat\u001b[0m\u001b[0;34m[\u001b[0m\u001b[0;34m:\u001b[0m\u001b[0;36m5\u001b[0m\u001b[0;34m]\u001b[0m\u001b[0;34m\u001b[0m\u001b[0m\n\u001b[0m",
      "\u001b[0;31mNameError\u001b[0m: name 'doc_word_mat' is not defined"
     ]
    }
   ],
   "source": [
    "doc_word_mat[:5]"
   ]
  }
 ],
 "metadata": {
  "kernelspec": {
   "display_name": "Python 3",
   "language": "python",
   "name": "python3"
  },
  "language_info": {
   "codemirror_mode": {
    "name": "ipython",
    "version": 3
   },
   "file_extension": ".py",
   "mimetype": "text/x-python",
   "name": "python",
   "nbconvert_exporter": "python",
   "pygments_lexer": "ipython3",
   "version": "3.5.2"
  }
 },
 "nbformat": 4,
 "nbformat_minor": 1
}
