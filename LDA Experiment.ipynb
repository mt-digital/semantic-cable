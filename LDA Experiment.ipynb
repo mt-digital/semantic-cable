{
 "cells": [
  {
   "cell_type": "code",
   "execution_count": 29,
   "metadata": {
    "collapsed": true
   },
   "outputs": [],
   "source": [
    "%matplotlib inline\n",
    "from semcable.experiment import Experiment\n",
    "from util import get_corpus_text, make_doc_word_matrix"
   ]
  },
  {
   "cell_type": "code",
   "execution_count": 21,
   "metadata": {
    "collapsed": false
   },
   "outputs": [],
   "source": [
    "texts = get_corpus_text('Three Months for Semantic Network Experiments', 'MSNBCW')"
   ]
  },
  {
   "cell_type": "code",
   "execution_count": 39,
   "metadata": {
    "collapsed": false,
    "scrolled": true
   },
   "outputs": [],
   "source": [
    "#import cProfile\n",
    "#cProfile.run('doc_word_mat, vocab = make_doc_word_matrix(texts[:10])')\n",
    "doc_word_mat, vocab = make_doc_word_matrix(texts)"
   ]
  },
  {
   "cell_type": "code",
   "execution_count": 33,
   "metadata": {
    "collapsed": false
   },
   "outputs": [
    {
     "name": "stdout",
     "output_type": "stream",
     "text": [
      "['game', 'play', 'good', 'steve', 'kornacki', 'chris', 'past', 'donald', 'trump', 'wrapped', 'campaign', 'billed', 'major', 'speech', 'topic', 'year', 'denigrating', 'mexican', 'government', 'talking', 'tough', 'illegal', 'immigration', 'weeks', 'raising', 'questions', 'shifting', 'rhetoric', 'tonight', 'laid']\n",
      "(1437, 58902)\n"
     ]
    },
    {
     "data": {
      "text/plain": [
       "<matplotlib.image.AxesImage at 0x151790080>"
      ]
     },
     "execution_count": 33,
     "metadata": {},
     "output_type": "execute_result"
    },
    {
     "data": {
      "image/png": "[encoded data removed]",
      "text/plain": [
       "<matplotlib.figure.Figure at 0x13594f438>"
      ]
     },
     "metadata": {},
     "output_type": "display_data"
    }
   ],
   "source": [
    "print(vocab[:30])\n",
    "print(doc_word_mat.shape)\n",
    "plt.matshow(doc_word_mat)"
   ]
  },
  {
   "cell_type": "code",
   "execution_count": 37,
   "metadata": {
    "collapsed": false
   },
   "outputs": [
    {
     "name": "stdout",
     "output_type": "stream",
     "text": [
      "(array([], dtype=int64),)\n"
     ]
    },
    {
     "data": {
      "text/plain": [
       "dtype('float64')"
      ]
     },
     "execution_count": 37,
     "metadata": {},
     "output_type": "execute_result"
    }
   ],
   "source": [
    "empties = np.where(doc_word_mat.sum(axis=1) == 0)\n",
    "print(empties)\n",
    "doc_word_mat.dtype"
   ]
  },
  {
   "cell_type": "code",
   "execution_count": null,
   "metadata": {
    "collapsed": false
   },
   "outputs": [
    {
     "name": "stderr",
     "output_type": "stream",
     "text": [
      "INFO:lda:n_documents: 1437\n",
      "INFO:lda:vocab_size: 58902\n",
      "INFO:lda:n_words: 3982223\n",
      "INFO:lda:n_topics: 80\n",
      "INFO:lda:n_iter: 2000\n"
     ]
    }
   ],
   "source": [
    "e = Experiment(doc_word_mat, vocab)\n",
    "\n",
    "e.fit_lda(n_topics=80)\n",
    "e.calculate_adjacency()\n",
    "e.make_graph()\n",
    "e.fit_powerlaw()\n",
    "print(e.power_law_coefficients)\n"
   ]
  }
 ],
 "metadata": {
  "kernelspec": {
   "display_name": "Python 3",
   "language": "python",
   "name": "python3"
  },
  "language_info": {
   "codemirror_mode": {
    "name": "ipython",
    "version": 3
   },
   "file_extension": ".py",
   "mimetype": "text/x-python",
   "name": "python",
   "nbconvert_exporter": "python",
   "pygments_lexer": "ipython3",
   "version": "3.5.2"
  }
 },
 "nbformat": 4,
 "nbformat_minor": 1
}
