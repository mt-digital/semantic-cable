{
 "cells": [
  {
   "cell_type": "markdown",
   "metadata": {},
   "source": [
    "## Read numpy matrix to build NetworkX graph\n",
    "\n",
    "From what I understand NetworkX is a worthy interface to graph calculations, I believe on rather large scale data. I'm trying to balance being able to do the whole experiment I'm aiming for, which is calculating statistics of the graph, with gleaning some more local (practical?) insights, like what are the k-nearest neighbors for a particular node of the graph, what's the clustering coefficient, the radius, etc.\n",
    "\n",
    "This notebook is on building a networkx graph directly from the adjacency matrix, which I've also called the edgeweight matrix. The first step that I haven't done yet for this experiment is explore the edgeweights themselves. That is, define a $\\tau$ such that an edge exists if the similarity is greater than $\\tau$. "
   ]
  },
  {
   "cell_type": "code",
   "execution_count": 6,
   "metadata": {
    "collapsed": false
   },
   "outputs": [
    {
     "data": {
      "image/png": "[encoded data removed]",
      "text/plain": [
       "<matplotlib.figure.Figure at 0x10fbc8128>"
      ]
     },
     "metadata": {},
     "output_type": "display_data"
    }
   ],
   "source": [
    "import numpy as np\n",
    "import networkx as nx\n",
    "\n",
    "from util import vis_graph\n",
    "\n",
    "# simple experiment\n",
    "\n",
    "a = np.array([[0, 1], [1, 0]])\n",
    "\n",
    "g = nx.from_numpy_matrix(a)\n",
    "\n",
    "mapping = {0:'hooba', 1:'stank'}\n",
    "g = nx.relabel_nodes(g, mapping)\n",
    "\n",
    "vis_graph(g, figsize=(1.5, 1.5))"
   ]
  },
  {
   "cell_type": "markdown",
   "metadata": {},
   "source": [
    "OK, so we can label pretty easily and use a mapping to do it. Looks like those pieces will be pretty easy to put together later. For now we can just focus on creating the $a_{ij} \\in \\{1, 0\\}$ adjacency matrix. For this I want a little more intuition on what, say, the \"trump\" word similarity values are."
   ]
  },
  {
   "cell_type": "code",
   "execution_count": null,
   "metadata": {
    "collapsed": true
   },
   "outputs": [],
   "source": [
    "from build_network import build_network, PPMI, Embedding\n",
    "from util import get_corpus_text\n",
    "\n",
    "texts, _ = get_corpus_text('Sample Week for Zipf experiment', 'FOXNEWSW')"
   ]
  },
  {
   "cell_type": "code",
   "execution_count": 41,
   "metadata": {
    "collapsed": false
   },
   "outputs": [],
   "source": [
    "e = Embedding.from_ppmi(PPMI.from_texts(texts))"
   ]
  },
  {
   "cell_type": "code",
   "execution_count": 42,
   "metadata": {
    "collapsed": true
   },
   "outputs": [],
   "source": [
    "e.make_edgweight_mat()"
   ]
  },
  {
   "cell_type": "code",
   "execution_count": 43,
   "metadata": {
    "collapsed": false
   },
   "outputs": [],
   "source": [
    "emat = e.edgeweight_mat"
   ]
  },
  {
   "cell_type": "code",
   "execution_count": 44,
   "metadata": {
    "collapsed": false
   },
   "outputs": [
    {
     "name": "stdout",
     "output_type": "stream",
     "text": [
      "[('cry', 533), ('deserve', 2786), ('wars', 3360), ('crying', 2132), ('came', 364), ('louis', 2958), ('deals', 1074), ('admitted', 3095), ('camps', 3310), ('fill', 1805)]\n",
      "[(0, 'days'), (1, 'lot'), (2, 'work'), (3, 'ahead'), (4, 'donald'), (5, 'trump'), (6, 'great'), (7, 'see'), (8, 'next'), (9, 'news')]\n"
     ]
    }
   ],
   "source": [
    "wl = e.word_lookup\n",
    "il = e.index_lookup\n",
    "\n",
    "wll = list(wl.items())\n",
    "ill = list(il.items())\n",
    "\n",
    "print(wll[:10])\n",
    "print(ill[:10])"
   ]
  },
  {
   "cell_type": "code",
   "execution_count": 45,
   "metadata": {
    "collapsed": false
   },
   "outputs": [],
   "source": [
    "tr_vec = np.copy(emat[wl['trump']])"
   ]
  },
  {
   "cell_type": "code",
   "execution_count": 49,
   "metadata": {
    "collapsed": false
   },
   "outputs": [
    {
     "name": "stdout",
     "output_type": "stream",
     "text": [
      "[ 1.          0.23310105  0.22198569  0.21496198  0.18717185  0.18183988\n",
      "  0.18015213  0.1757532   0.17425468  0.17111487  0.16776612  0.16686591\n",
      "  0.16061475  0.16029349  0.16007062  0.15951875  0.15844346  0.15768894\n",
      "  0.15744592  0.15695733]\n",
      "[-0.1505361  -0.15117168 -0.15652013 -0.15747766 -0.15902812 -0.1624958\n",
      " -0.16509677 -0.16580425 -0.1680285  -0.17141689 -0.17214809 -0.17474746\n",
      " -0.18004288 -0.1842818  -0.19660496 -0.2020338  -0.2063037  -0.21178547\n",
      " -0.21252378 -0.22575605]\n"
     ]
    }
   ],
   "source": [
    "trv_sorted = np.flipud(np.sort(tr_vec))\n",
    "print(trv_sorted[:20])\n",
    "print(trv_sorted[-20:])"
   ]
  },
  {
   "cell_type": "code",
   "execution_count": 56,
   "metadata": {
    "collapsed": false
   },
   "outputs": [
    {
     "name": "stdout",
     "output_type": "stream",
     "text": [
      "[ 1.          0.87085071  0.57788668  0.57067825  0.54482258  0.48825344\n",
      "  0.45875101  0.43972695  0.400773    0.37423624]\n",
      "reagan\n"
     ]
    }
   ],
   "source": [
    "ran_vec = np.flipud(np.sort(emat[1000]))\n",
    "print(ran_vec[:10])  # these seem high, and the node label is....\n",
    "print(il[1000])  # 'reagan' !"
   ]
  },
  {
   "cell_type": "code",
   "execution_count": 91,
   "metadata": {
    "collapsed": false
   },
   "outputs": [
    {
     "data": {
      "text/plain": [
       "(array([  1.02800000e+03,   8.21000000e+02,   7.23000000e+02,\n",
       "          5.15000000e+02,   3.43000000e+02,   2.57000000e+02,\n",
       "          1.61000000e+02,   7.80000000e+01,   4.10000000e+01,\n",
       "          1.70000000e+01,   7.00000000e+00,   3.00000000e+00,\n",
       "          0.00000000e+00,   2.00000000e+00,   2.00000000e+00,\n",
       "          1.00000000e+00,   0.00000000e+00,   0.00000000e+00,\n",
       "          0.00000000e+00,   3.00000000e+00]),\n",
       " array([  2.,   4.,   6.,   8.,  10.,  12.,  14.,  16.,  18.,  20.,  22.,\n",
       "         24.,  26.,  28.,  30.,  32.,  34.,  36.,  38.,  40.,  42.]),\n",
       " <a list of 20 Patch objects>)"
      ]
     },
     "execution_count": 91,
     "metadata": {},
     "output_type": "execute_result"
    },
    {
     "data": {
      "image/png": "[encoded data removed]",
      "text/plain": [
       "<matplotlib.figure.Figure at 0x1117b2438>"
      ]
     },
     "metadata": {},
     "output_type": "display_data"
    }
   ],
   "source": [
    "tau = 0.4\n",
    "\n",
    "adj_mat = np.copy(emat)\n",
    "\n",
    "adj_mat[adj_mat <= tau] = 0.0\n",
    "adj_mat[adj_mat > tau] = 1.0\n",
    "\n",
    "g = nx.from_numpy_matrix(adj_mat)\n",
    "\n",
    "degs = g.degree()\n",
    "\n",
    "plt.hist(list(degs.values()), bins=20)"
   ]
  },
  {
   "cell_type": "markdown",
   "metadata": {},
   "source": [
    "## Conclusion\n",
    "\n",
    "This is only one week of data, which may be why it's tough to get a zipfian distribution at all. $\\tau$ must be set so high that \"trump\" does not get any neighbors if we set it to the values (around $\\tau = 0.4$) that result in a power law-looking histogram.\n",
    "\n",
    "So, it's time to close this notebook out as I've learned two things:\n",
    "\n",
    "1. I can do the power law or other statistical fitting/analysis of the graph without labelling\n",
    "2. When I do want to label this, it's easy to just use [`nx.relabel_nodes`](http://networkx.readthedocs.io/en/stable/reference/generated/networkx.relabel.relabel_nodes.html#networkx.relabel.relabel_nodes), easy peasy"
   ]
  },
  {
   "cell_type": "code",
   "execution_count": null,
   "metadata": {
    "collapsed": true
   },
   "outputs": [],
   "source": []
  }
 ],
 "metadata": {
  "kernelspec": {
   "display_name": "Python 3",
   "language": "python",
   "name": "python3"
  },
  "language_info": {
   "codemirror_mode": {
    "name": "ipython",
    "version": 3
   },
   "file_extension": ".py",
   "mimetype": "text/x-python",
   "name": "python",
   "nbconvert_exporter": "python",
   "pygments_lexer": "ipython3",
   "version": "3.5.2"
  }
 },
 "nbformat": 4,
 "nbformat_minor": 1
}
