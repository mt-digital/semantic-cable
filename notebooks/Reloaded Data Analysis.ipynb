{
 "cells": [
  {
   "cell_type": "code",
   "execution_count": 10,
   "metadata": {
    "collapsed": false
   },
   "outputs": [],
   "source": [
    "import sys\n",
    "sys.path.append('..')\n",
    "from semcable.experiment import Experiment\n",
    "from semcable.util import make_doc_word_matrix, get_corpus_text"
   ]
  },
  {
   "cell_type": "code",
   "execution_count": 14,
   "metadata": {
    "collapsed": false
   },
   "outputs": [],
   "source": [
    "words_of_interest = [\n",
    "     'swamp', 'trump', 'environment', 'regulations',\n",
    "     'regulators', 'economy', 'jobs', 'manufacturing', 'immigrant',\n",
    "     'immigration', 'reform', 'drain', 'attack', 'hit', 'punch', 'clinton',\n",
    "     'hillary', 'bill', 'donald', 'pelosi', 'ryan', 'paul', 'congress',\n",
    "     'senate', 'obama', 'washington', 'dc', 'environment', 'epa',\n",
    "     'lobbyists', 'lobbyist', 'lobbying', 'attacking', 'hitting', 'attacked',\n",
    "     'lashed', 'punched', 'punching', 'isis', 'iraq', 'peace', 'war',\n",
    "     'battle', 'fight', 'fought', 'unemployment', 'millenial', 'millenials',\n",
    "     'vote', 'voting', 'voter', 'fraud', 'tax', 'taxes', 'returns']\n"
   ]
  },
  {
   "cell_type": "code",
   "execution_count": 12,
   "metadata": {
    "collapsed": false
   },
   "outputs": [
    {
     "data": {
      "text/plain": [
       "False"
      ]
     },
     "execution_count": 12,
     "metadata": {},
     "output_type": "execute_result"
    }
   ],
   "source": [
    "texts = get_corpus_text('Three Months for Semantic Network Experiments', 'MSNBCW')\n",
    "doc_word_mat, vocab = make_doc_word_matrix(texts)\n",
    "\n",
    "all(word in vocab for word in words_of_interest)"
   ]
  },
  {
   "cell_type": "code",
   "execution_count": 15,
   "metadata": {
    "collapsed": false
   },
   "outputs": [
    {
     "data": {
      "text/plain": [
       "[]"
      ]
     },
     "execution_count": 15,
     "metadata": {},
     "output_type": "execute_result"
    }
   ],
   "source": [
    "[w for w in words_of_interest if w not in vocab]"
   ]
  },
  {
   "cell_type": "code",
   "execution_count": 18,
   "metadata": {
    "collapsed": false
   },
   "outputs": [
    {
     "name": "stdout",
     "output_type": "stream",
     "text": [
      "[[ 0  1  4]\n",
      " [ 2  4  5]\n",
      " [ 2 67  7]]\n"
     ]
    }
   ],
   "source": [
    "vocab = ['foo', 'bar', 'baz']\n",
    "\n",
    "woi = ['bar', 'baz']\n",
    "\n",
    "vocab_lookup = dict((w, i) for i, w in enumerate(vocab))\n",
    "\n",
    "woi_idxs = [vocab_lookup[w] for w in woi]\n",
    "\n",
    "a = np.array([[0, 1, 4], [2, 4, 5], [2, 67, 7]])\n",
    "print(a)"
   ]
  },
  {
   "cell_type": "code",
   "execution_count": 21,
   "metadata": {
    "collapsed": false
   },
   "outputs": [
    {
     "name": "stdout",
     "output_type": "stream",
     "text": [
      "[[ 1  4]\n",
      " [ 4  5]\n",
      " [67  7]]\n"
     ]
    }
   ],
   "source": [
    "a_woi = a[:, woi_idxs]\n",
    "print(a_woi)"
   ]
  },
  {
   "cell_type": "code",
   "execution_count": 25,
   "metadata": {
    "collapsed": false
   },
   "outputs": [
    {
     "data": {
      "text/plain": [
       "array([4, 5, 7])"
      ]
     },
     "execution_count": 25,
     "metadata": {},
     "output_type": "execute_result"
    }
   ],
   "source": [
    "woi_indexes = dict((w, i) for i, w in enumerate(woi))\n",
    "\n",
    "a_woi[:, woi_indexes['baz']]"
   ]
  }
 ],
 "metadata": {
  "kernelspec": {
   "display_name": "Python 3",
   "language": "python",
   "name": "python3"
  },
  "language_info": {
   "codemirror_mode": {
    "name": "ipython",
    "version": 3
   },
   "file_extension": ".py",
   "mimetype": "text/x-python",
   "name": "python",
   "nbconvert_exporter": "python",
   "pygments_lexer": "ipython3",
   "version": "3.5.2"
  }
 },
 "nbformat": 4,
 "nbformat_minor": 1
}
