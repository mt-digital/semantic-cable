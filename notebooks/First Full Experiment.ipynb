{
 "cells": [
  {
   "cell_type": "code",
   "execution_count": null,
   "metadata": {
    "collapsed": true
   },
   "outputs": [],
   "source": [
    "ex = Experiment(10, [0, 12.5, 25, 37.5, 50, 62.5, 75, 87.5, 100])\n",
    "ex.load_texts('Three Months for Semantic Network Experiments')"
   ]
  },
  {
   "cell_type": "markdown",
   "metadata": {},
   "source": [
    "ex.run()"
   ]
  },
  {
   "cell_type": "code",
   "execution_count": 30,
   "metadata": {
    "collapsed": false
   },
   "outputs": [],
   "source": [
    "results = {\n",
    "    pct: v.fit_coefficients.slope for pct, v in ex.run_dict.items()\n",
    "}\n"
   ]
  },
  {
   "cell_type": "code",
   "execution_count": 31,
   "metadata": {
    "collapsed": false
   },
   "outputs": [
    {
     "name": "stdout",
     "output_type": "stream",
     "text": [
      "{0: -3.4909828737761668, 50: -2.9882416006109254, 100: -3.0060685259791637, 37.5: -2.9981598605676014, 87.5: -2.9880771660712848, 25: -3.0451752515766235, 75: -2.9880771660712848, 12.5: -3.3339856823714009, 62.5: -2.9880771660712848}\n"
     ]
    }
   ],
   "source": [
    "print(results)"
   ]
  },
  {
   "cell_type": "code",
   "execution_count": 29,
   "metadata": {
    "collapsed": false
   },
   "outputs": [
    {
     "name": "stdout",
     "output_type": "stream",
     "text": [
      "[(0, -3.4909828737761668), (12.5, -3.3339856823714009), (25, -3.0451752515766235), (37.5, -2.9981598605676014), (50, -2.9882416006109254), (62.5, -2.9880771660712848), (75, -2.9880771660712848), (87.5, -2.9880771660712848), (100, -3.0060685259791637)]\n"
     ]
    },
    {
     "data": {
      "image/png": "[encoded data removed]",
      "text/plain": [
       "<matplotlib.figure.Figure at 0x12d51a5c0>"
      ]
     },
     "metadata": {},
     "output_type": "display_data"
    }
   ],
   "source": [
    "\n",
    "print(results)\n",
    "results.sort(key=lambda x: x[0])\n",
    "\n",
    "x = [a[0] for a in results]\n",
    "y = [a[1] for a in results]\n",
    "plt.plot(x, y, 'o-', mec='black', mfc='white', ms=10, mew=3, \n",
    "         lw=3, color='black')\n",
    "plt.show()"
   ]
  },
  {
   "cell_type": "code",
   "execution_count": 34,
   "metadata": {
    "collapsed": false
   },
   "outputs": [],
   "source": [
    "res0 = ex.run_dict[0]"
   ]
  },
  {
   "cell_type": "code",
   "execution_count": 35,
   "metadata": {
    "collapsed": false
   },
   "outputs": [
    {
     "data": {
      "text/plain": [
       "0"
      ]
     },
     "execution_count": 35,
     "metadata": {},
     "output_type": "execute_result"
    }
   ],
   "source": [
    "res0."
   ]
  },
  {
   "cell_type": "code",
   "execution_count": null,
   "metadata": {
    "collapsed": true
   },
   "outputs": [],
   "source": []
  }
 ],
 "metadata": {
  "kernelspec": {
   "display_name": "Python 3",
   "language": "python",
   "name": "python3"
  },
  "language_info": {
   "codemirror_mode": {
    "name": "ipython",
    "version": 3
   },
   "file_extension": ".py",
   "mimetype": "text/x-python",
   "name": "python",
   "nbconvert_exporter": "python",
   "pygments_lexer": "ipython3",
   "version": "3.5.2"
  }
 },
 "nbformat": 4,
 "nbformat_minor": 1
}
