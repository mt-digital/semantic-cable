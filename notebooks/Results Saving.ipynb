{
 "cells": [
  {
   "cell_type": "code",
   "execution_count": 1,
   "metadata": {
    "collapsed": true
   },
   "outputs": [],
   "source": [
    "import lda\n",
    "\n",
    "from semcable.experiment import Experiment\n",
    "\n",
    "doc_word_mat = lda.datasets.load_reuters()\n",
    "vocab = lda.datasets.load_reuters_vocab()\n",
    "\n",
    "e = Experiment(doc_word_mat, vocab)"
   ]
  },
  {
   "cell_type": "code",
   "execution_count": 6,
   "metadata": {
    "collapsed": false
   },
   "outputs": [],
   "source": [
    "np.save('data/UUID1/test_doc_word_mat', doc_word_mat)\n",
    "with open('data/UUID1/vocab', 'w') as f:\n",
    "    for v in vocab:\n",
    "        f.write(v + '\\n')"
   ]
  },
  {
   "cell_type": "code",
   "execution_count": 7,
   "metadata": {
    "collapsed": false
   },
   "outputs": [
    {
     "name": "stderr",
     "output_type": "stream",
     "text": [
      "INFO:lda:n_documents: 395\n",
      "INFO:lda:vocab_size: 4258\n",
      "INFO:lda:n_words: 84010\n",
      "INFO:lda:n_topics: 20\n",
      "INFO:lda:n_iter: 100\n",
      "INFO:lda:<0> log likelihood: -1051748\n",
      "INFO:lda:<10> log likelihood: -721654\n",
      "INFO:lda:<20> log likelihood: -699955\n",
      "INFO:lda:<30> log likelihood: -690560\n",
      "INFO:lda:<40> log likelihood: -683137\n",
      "INFO:lda:<50> log likelihood: -680192\n",
      "INFO:lda:<60> log likelihood: -677243\n",
      "INFO:lda:<70> log likelihood: -674908\n",
      "INFO:lda:<80> log likelihood: -673832\n",
      "INFO:lda:<90> log likelihood: -672604\n",
      "INFO:lda:<99> log likelihood: -671150\n"
     ]
    }
   ],
   "source": [
    "e.fit_lda(n_topics=20, n_iter=100)"
   ]
  },
  {
   "cell_type": "code",
   "execution_count": 8,
   "metadata": {
    "collapsed": true
   },
   "outputs": [],
   "source": [
    "e.calculate_adjacency()"
   ]
  },
  {
   "cell_type": "code",
   "execution_count": 10,
   "metadata": {
    "collapsed": true
   },
   "outputs": [],
   "source": [
    "mod = e.model"
   ]
  },
  {
   "cell_type": "code",
   "execution_count": 12,
   "metadata": {
    "collapsed": false
   },
   "outputs": [],
   "source": [
    "open('data/UUID1/lda_params', 'w').write('{\"n_topics\": 20, \"n_iter\": 100}\\n')\n",
    "\n",
    "np.save('data/UUID1/edgeweights', e.E)\n",
    "\n",
    "np.save('data/UUID1/adjacency', e.A)"
   ]
  },
  {
   "cell_type": "code",
   "execution_count": 15,
   "metadata": {
    "collapsed": false
   },
   "outputs": [
    {
     "data": {
      "text/plain": [
       "'{\"n_topics30, \"yo\": 40}'"
      ]
     },
     "execution_count": 15,
     "metadata": {},
     "output_type": "execute_result"
    }
   ],
   "source": [
    "'{{\"n_topics{}, \"yo\": {}}}'.format(30, 40)"
   ]
  }
 ],
 "metadata": {
  "kernelspec": {
   "display_name": "Python 3",
   "language": "python",
   "name": "python3"
  },
  "language_info": {
   "codemirror_mode": {
    "name": "ipython",
    "version": 3
   },
   "file_extension": ".py",
   "mimetype": "text/x-python",
   "name": "python",
   "nbconvert_exporter": "python",
   "pygments_lexer": "ipython3",
   "version": "3.5.2"
  }
 },
 "nbformat": 4,
 "nbformat_minor": 1
}
